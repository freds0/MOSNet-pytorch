{
 "cells": [
  {
   "cell_type": "code",
   "execution_count": 1,
   "id": "4676838b",
   "metadata": {},
   "outputs": [
    {
     "name": "stderr",
     "output_type": "stream",
     "text": [
      "/home/fred/.conda/envs/mosnet-pytorch/lib/python3.8/site-packages/tqdm/auto.py:22: TqdmWarning: IProgress not found. Please update jupyter and ipywidgets. See https://ipywidgets.readthedocs.io/en/stable/user_install.html\n",
      "  from .autonotebook import tqdm as notebook_tqdm\n"
     ]
    }
   ],
   "source": [
    "#from getdata import getdataset\n",
    "from torch.utils.data import DataLoader\n",
    "from torch import nn\n",
    "import torch\n",
    "import json\n",
    "from tqdm import tqdm\n",
    "from model import CNN_BLSTM\n"
   ]
  },
  {
   "cell_type": "code",
   "execution_count": 2,
   "id": "ef4e62c8",
   "metadata": {},
   "outputs": [],
   "source": [
    "with open('config.json') as f:\n",
    "    data = f.read()\n",
    "config = json.loads(data)\n",
    "loaddata_config = config[\"loaddata_config\"]\n",
    "train_config = config[\"train_config\"]"
   ]
  },
  {
   "cell_type": "code",
   "execution_count": 3,
   "id": "872e57a4",
   "metadata": {},
   "outputs": [
    {
     "data": {
      "text/plain": [
       "{'num_train': 13580,\n",
       " 'num_test': 4000,\n",
       " 'num_valid': 3000,\n",
       " 'bin_root': './data/wav/',\n",
       " 'data_dir': './data',\n",
       " 'fft_size': 512,\n",
       " 'max_timestep': 521}"
      ]
     },
     "execution_count": 3,
     "metadata": {},
     "output_type": "execute_result"
    }
   ],
   "source": [
    "loaddata_config"
   ]
  },
  {
   "cell_type": "code",
   "execution_count": 35,
   "id": "869203c8",
   "metadata": {},
   "outputs": [],
   "source": [
    "from scipy.stats.stats import _first\n",
    "import torch\n",
    "from utils import read_list\n",
    "import os\n",
    "import h5py\n",
    "import numpy as np\n",
    "import random\n",
    "import torch.utils.data\n",
    "import torchaudio\n",
    "import torchaudio.transforms as T\n",
    "\n",
    "MAX_WAV_VALUE = 32768.0\n",
    "\n",
    "def load_wav_to_torch(full_path):\n",
    "    signal, sr = torchaudio.load(full_path)\n",
    "    return signal, sr\n",
    "\n",
    "class getdataset(torch.utils.data.Dataset):\n",
    "    def __init__(self, config, seed, mode):\n",
    "\n",
    "        self.config = config\n",
    "        mos_list = read_list(os.path.join(config[\"data_dir\"],'mos_list.txt'))\n",
    "        random.seed(seed)\n",
    "        random.shuffle(mos_list)\n",
    "        self.max_wav_value = MAX_WAV_VALUE\n",
    "        self.spec_fn = T.Spectrogram(\n",
    "            n_fft=512,\n",
    "            win_length=512,\n",
    "            hop_length=256,\n",
    "            center=True,\n",
    "            pad_mode=\"reflect\",\n",
    "            power=2.0,\n",
    "        )\n",
    "\n",
    "        self.max_timestep = self.getmax_timestep(config,seed)\n",
    "        if mode == \"train\":\n",
    "            self.filelist = mos_list[0:-(config[\"num_test\"]+config[\"num_valid\"])]\n",
    "        elif mode == \"valid\":\n",
    "            self.filelist = mos_list[-(config[\"num_test\"]+config[\"num_valid\"]):-config[\"num_test\"]]\n",
    "        elif mode == \"test\":\n",
    "            self.filelist= mos_list[-config[\"num_test\"]:]\n",
    "\n",
    "    def get_magnitude_spec(self, filename):\n",
    "        audio, sampling_rate = load_wav_to_torch(filename)\n",
    "        audio_norm = audio / self.max_wav_value\n",
    "        audio_norm = audio_norm.unsqueeze(0)\n",
    "        audio_norm = torch.autograd.Variable(audio_norm, requires_grad=False)\n",
    "        mag_spec = self.spec_fn(audio_norm)\n",
    "        mag_spec = torch.squeeze(mag_spec, 0)\n",
    "        return mag_spec\n",
    "\n",
    "    def read(self, file_path):\n",
    "        mag_spec = self.get_magnitude_spec(file_path)\n",
    "        time_step = mag_spec.shape[2]\n",
    "        spec_dim = self.config[\"fft_size\"] // 2 + 1\n",
    "        #mag_spec = np.reshape(mag_spec,(1, time_step, spec_dim))\n",
    "        return {\n",
    "            'mag_spec': mag_spec,\n",
    "        }  \n",
    "\n",
    "    def pad(self,array, reference_shape):\n",
    "        \n",
    "        result = np.zeros(reference_shape)\n",
    "        result[:array.shape[0],:array.shape[1],:array.shape[2]] = array\n",
    "\n",
    "        return result\n",
    "\n",
    "    def getmax_timestep(self,config,seed):\n",
    "        file_list = read_list(os.path.join(config[\"data_dir\"],'mos_list.txt'))\n",
    "        random.seed(seed)\n",
    "        random.shuffle(file_list)\n",
    "        filename = [file_list[x].split(',')[0] for x in range(len(file_list))]\n",
    "        for i in range(len(filename)):\n",
    "            all_feat = self.read(os.path.join(config[\"bin_root\"],filename[i]))\n",
    "            mag_spec = all_feat['mag_spec']\n",
    "            if i == 0:\n",
    "                feat = mag_spec\n",
    "                max_timestep = feat.shape[2]\n",
    "            else:\n",
    "                if mag_spec.shape[2] > max_timestep:\n",
    "                    max_timestep = mag_spec.shape[2]\n",
    "        print(max_timestep)\n",
    "        return max_timestep\n",
    "\n",
    "    def __getitem__(self, index):\n",
    "        # Read audio\n",
    "        filename,mos = self.filelist[index].split(',')\n",
    "        all_feat = self.read(os.path.join(self.config[\"bin_root\"],filename))\n",
    "        mag_spec = all_feat['mag_spec']\n",
    "        ref_shape = [mag_spec.shape[0], mag_spec.shape[1], self.max_timestep]\n",
    "        \n",
    "        mag_spec = self.pad(mag_spec,ref_shape)\n",
    "        print(mag_spec.shape)\n",
    "        mos=np.asarray(float(mos)).reshape([1])\n",
    "        frame_mos = np.array([mos*np.ones([mag_spec.shape[1],1])])\n",
    "        return mag_spec, [mos,frame_mos.reshape((1,-1)).transpose(1,0)]\n",
    "\n",
    "    def __len__(self):\n",
    "        return len(self.filelist)\n"
   ]
  },
  {
   "cell_type": "code",
   "execution_count": 36,
   "id": "d36f530e",
   "metadata": {},
   "outputs": [
    {
     "name": "stdout",
     "output_type": "stream",
     "text": [
      "492\n"
     ]
    }
   ],
   "source": [
    "trainset = getdataset(loaddata_config, train_config[\"seed\"], \"train\")"
   ]
  },
  {
   "cell_type": "code",
   "execution_count": 37,
   "id": "a9ff30a0",
   "metadata": {},
   "outputs": [],
   "source": [
    "train_loader = DataLoader(trainset, num_workers=0,\n",
    "                          batch_size=4,\n",
    "                          pin_memory=False,\n",
    "                          drop_last=True)"
   ]
  },
  {
   "cell_type": "code",
   "execution_count": null,
   "id": "ad32b79d",
   "metadata": {},
   "outputs": [],
   "source": [
    "data = iter(train_loader)"
   ]
  },
  {
   "cell_type": "code",
   "execution_count": null,
   "id": "efd12a3b",
   "metadata": {},
   "outputs": [],
   "source": [
    "for i in data:\n",
    "    print(type(i))\n",
    "    print(i.shape)"
   ]
  },
  {
   "cell_type": "code",
   "execution_count": 9,
   "id": "ebdf8144",
   "metadata": {},
   "outputs": [],
   "source": [
    "model = CNN_BLSTM()"
   ]
  },
  {
   "cell_type": "code",
   "execution_count": 10,
   "id": "7e04aa04",
   "metadata": {},
   "outputs": [
    {
     "data": {
      "text/plain": [
       "True"
      ]
     },
     "execution_count": 10,
     "metadata": {},
     "output_type": "execute_result"
    }
   ],
   "source": [
    "torch.cuda.is_available()"
   ]
  },
  {
   "cell_type": "code",
   "execution_count": 11,
   "id": "b48f24ee",
   "metadata": {},
   "outputs": [
    {
     "data": {
      "text/plain": [
       "0"
      ]
     },
     "execution_count": 11,
     "metadata": {},
     "output_type": "execute_result"
    }
   ],
   "source": [
    "torch.cuda.current_device()"
   ]
  },
  {
   "cell_type": "code",
   "execution_count": 12,
   "id": "175a316c",
   "metadata": {},
   "outputs": [
    {
     "data": {
      "text/plain": [
       "'NVIDIA GeForce RTX 3060 Laptop GPU'"
      ]
     },
     "execution_count": 12,
     "metadata": {},
     "output_type": "execute_result"
    }
   ],
   "source": [
    "torch.cuda.get_device_name(0)"
   ]
  },
  {
   "cell_type": "code",
   "execution_count": 13,
   "id": "5c17953a",
   "metadata": {},
   "outputs": [],
   "source": [
    "optimizer = torch.optim.Adam(model.parameters(), lr=1e-4)"
   ]
  },
  {
   "cell_type": "code",
   "execution_count": 38,
   "id": "03b8ceec",
   "metadata": {},
   "outputs": [
    {
     "data": {
      "text/plain": [
       "CNN_BLSTM(\n",
       "  (conv1): Sequential(\n",
       "    (0): Conv2d(1, 16, kernel_size=(3, 3), stride=(1, 1), padding=(1, 1))\n",
       "    (1): ReLU()\n",
       "    (2): Conv2d(16, 16, kernel_size=(3, 3), stride=(1, 1), padding=(1, 1))\n",
       "    (3): ReLU()\n",
       "    (4): Conv2d(16, 16, kernel_size=(3, 3), stride=(1, 3), padding=(1, 1))\n",
       "    (5): ReLU()\n",
       "  )\n",
       "  (conv2): Sequential(\n",
       "    (0): Conv2d(16, 32, kernel_size=(3, 3), stride=(1, 1), padding=(1, 1))\n",
       "    (1): ReLU()\n",
       "    (2): Conv2d(32, 32, kernel_size=(3, 3), stride=(1, 1), padding=(1, 1))\n",
       "    (3): ReLU()\n",
       "    (4): Conv2d(32, 32, kernel_size=(3, 3), stride=(1, 3), padding=(1, 1))\n",
       "    (5): ReLU()\n",
       "  )\n",
       "  (conv3): Sequential(\n",
       "    (0): Conv2d(32, 64, kernel_size=(3, 3), stride=(1, 1), padding=(1, 1))\n",
       "    (1): ReLU()\n",
       "    (2): Conv2d(64, 64, kernel_size=(3, 3), stride=(1, 1), padding=(1, 1))\n",
       "    (3): ReLU()\n",
       "    (4): Conv2d(64, 64, kernel_size=(3, 3), stride=(1, 3), padding=(1, 1))\n",
       "    (5): ReLU()\n",
       "  )\n",
       "  (conv4): Sequential(\n",
       "    (0): Conv2d(64, 128, kernel_size=(3, 3), stride=(1, 1), padding=(1, 1))\n",
       "    (1): ReLU()\n",
       "    (2): Conv2d(128, 128, kernel_size=(3, 3), stride=(1, 1), padding=(1, 1))\n",
       "    (3): ReLU()\n",
       "    (4): Conv2d(128, 128, kernel_size=(3, 3), stride=(1, 3), padding=(1, 1))\n",
       "    (5): ReLU()\n",
       "  )\n",
       "  (blstm1): LSTM(512, 128, batch_first=True, bidirectional=True)\n",
       "  (droupout): Dropout(p=0.3, inplace=False)\n",
       "  (flatten): TimeDistributed(\n",
       "    (module): Flatten(start_dim=1, end_dim=-1)\n",
       "  )\n",
       "  (dense1): Sequential(\n",
       "    (0): TimeDistributed(\n",
       "      (module): Sequential(\n",
       "        (0): Linear(in_features=256, out_features=128, bias=True)\n",
       "        (1): ReLU()\n",
       "      )\n",
       "    )\n",
       "    (1): Dropout(p=0.3, inplace=False)\n",
       "  )\n",
       "  (frame_layer): TimeDistributed(\n",
       "    (module): Linear(in_features=128, out_features=1, bias=True)\n",
       "  )\n",
       "  (average_layer): AdaptiveAvgPool1d(output_size=1)\n",
       ")"
      ]
     },
     "execution_count": 38,
     "metadata": {},
     "output_type": "execute_result"
    }
   ],
   "source": [
    "model.train()"
   ]
  },
  {
   "cell_type": "code",
   "execution_count": 39,
   "id": "b6af0dde",
   "metadata": {},
   "outputs": [],
   "source": [
    "use_cuda = torch.cuda.is_available()\n",
    "\n",
    "device = torch.device(\"cuda\" if use_cuda else \"cpu\")"
   ]
  },
  {
   "cell_type": "code",
   "execution_count": 40,
   "id": "ff48cfa2",
   "metadata": {},
   "outputs": [],
   "source": [
    "model = model.to(device)"
   ]
  },
  {
   "cell_type": "code",
   "execution_count": 41,
   "id": "d0614d24",
   "metadata": {},
   "outputs": [
    {
     "name": "stderr",
     "output_type": "stream",
     "text": [
      "  0%|                                                                                                                                                                | 0/3395 [00:00<?, ?it/s]"
     ]
    },
    {
     "name": "stdout",
     "output_type": "stream",
     "text": [
      "(1, 257, 492)\n",
      "(1, 257, 492)\n",
      "(1, 257, 492)\n",
      "(1, 257, 492)\n"
     ]
    },
    {
     "name": "stderr",
     "output_type": "stream",
     "text": [
      "\n"
     ]
    },
    {
     "ename": "RuntimeError",
     "evalue": "shape '[4, 257, 512]' is invalid for input of size 921088",
     "output_type": "error",
     "traceback": [
      "\u001b[0;31m---------------------------------------------------------------------------\u001b[0m",
      "\u001b[0;31mRuntimeError\u001b[0m                              Traceback (most recent call last)",
      "Input \u001b[0;32mIn [41]\u001b[0m, in \u001b[0;36m<cell line: 1>\u001b[0;34m()\u001b[0m\n\u001b[1;32m      5\u001b[0m model_input \u001b[38;5;241m=\u001b[39m torch\u001b[38;5;241m.\u001b[39mautograd\u001b[38;5;241m.\u001b[39mVariable(model_input\u001b[38;5;241m.\u001b[39mto(device, dtype\u001b[38;5;241m=\u001b[39mtorch\u001b[38;5;241m.\u001b[39mfloat))\n\u001b[1;32m      6\u001b[0m \u001b[38;5;66;03m#mos_y = mos_y.cuda()\u001b[39;00m\n\u001b[1;32m      7\u001b[0m \u001b[38;5;66;03m#frame_mos_y = frame_mos_y.cuda()\u001b[39;00m\n\u001b[0;32m----> 9\u001b[0m avg_score, frame_score \u001b[38;5;241m=\u001b[39m \u001b[43mmodel\u001b[49m\u001b[43m(\u001b[49m\u001b[43mmodel_input\u001b[49m\u001b[43m)\u001b[49m\n\u001b[1;32m     10\u001b[0m fn_mse1 \u001b[38;5;241m=\u001b[39m nn\u001b[38;5;241m.\u001b[39mMSELoss()\n\u001b[1;32m     11\u001b[0m fn_mse2 \u001b[38;5;241m=\u001b[39m nn\u001b[38;5;241m.\u001b[39mMSELoss()\n",
      "File \u001b[0;32m~/.conda/envs/mosnet-pytorch/lib/python3.8/site-packages/torch/nn/modules/module.py:1110\u001b[0m, in \u001b[0;36mModule._call_impl\u001b[0;34m(self, *input, **kwargs)\u001b[0m\n\u001b[1;32m   1106\u001b[0m \u001b[38;5;66;03m# If we don't have any hooks, we want to skip the rest of the logic in\u001b[39;00m\n\u001b[1;32m   1107\u001b[0m \u001b[38;5;66;03m# this function, and just call forward.\u001b[39;00m\n\u001b[1;32m   1108\u001b[0m \u001b[38;5;28;01mif\u001b[39;00m \u001b[38;5;129;01mnot\u001b[39;00m (\u001b[38;5;28mself\u001b[39m\u001b[38;5;241m.\u001b[39m_backward_hooks \u001b[38;5;129;01mor\u001b[39;00m \u001b[38;5;28mself\u001b[39m\u001b[38;5;241m.\u001b[39m_forward_hooks \u001b[38;5;129;01mor\u001b[39;00m \u001b[38;5;28mself\u001b[39m\u001b[38;5;241m.\u001b[39m_forward_pre_hooks \u001b[38;5;129;01mor\u001b[39;00m _global_backward_hooks\n\u001b[1;32m   1109\u001b[0m         \u001b[38;5;129;01mor\u001b[39;00m _global_forward_hooks \u001b[38;5;129;01mor\u001b[39;00m _global_forward_pre_hooks):\n\u001b[0;32m-> 1110\u001b[0m     \u001b[38;5;28;01mreturn\u001b[39;00m \u001b[43mforward_call\u001b[49m\u001b[43m(\u001b[49m\u001b[38;5;241;43m*\u001b[39;49m\u001b[38;5;28;43minput\u001b[39;49m\u001b[43m,\u001b[49m\u001b[43m \u001b[49m\u001b[38;5;241;43m*\u001b[39;49m\u001b[38;5;241;43m*\u001b[39;49m\u001b[43mkwargs\u001b[49m\u001b[43m)\u001b[49m\n\u001b[1;32m   1111\u001b[0m \u001b[38;5;66;03m# Do not call functions when jit is used\u001b[39;00m\n\u001b[1;32m   1112\u001b[0m full_backward_hooks, non_full_backward_hooks \u001b[38;5;241m=\u001b[39m [], []\n",
      "File \u001b[0;32m~/Projetos/MOSNet-pytorch/model.py:64\u001b[0m, in \u001b[0;36mCNN_BLSTM.forward\u001b[0;34m(self, forward_input)\u001b[0m\n\u001b[1;32m     62\u001b[0m \u001b[38;5;66;03m# reshape\u001b[39;00m\n\u001b[1;32m     63\u001b[0m conv4_output \u001b[38;5;241m=\u001b[39m conv4_output\u001b[38;5;241m.\u001b[39mpermute(\u001b[38;5;241m0\u001b[39m, \u001b[38;5;241m2\u001b[39m, \u001b[38;5;241m1\u001b[39m, \u001b[38;5;241m3\u001b[39m)\n\u001b[0;32m---> 64\u001b[0m conv4_output \u001b[38;5;241m=\u001b[39m \u001b[43mtorch\u001b[49m\u001b[38;5;241;43m.\u001b[39;49m\u001b[43mreshape\u001b[49m\u001b[43m(\u001b[49m\u001b[43mconv4_output\u001b[49m\u001b[43m,\u001b[49m\u001b[43m \u001b[49m\u001b[43m(\u001b[49m\u001b[43mconv4_output\u001b[49m\u001b[38;5;241;43m.\u001b[39;49m\u001b[43mshape\u001b[49m\u001b[43m[\u001b[49m\u001b[38;5;241;43m0\u001b[39;49m\u001b[43m]\u001b[49m\u001b[43m,\u001b[49m\u001b[43m \u001b[49m\u001b[43mconv4_output\u001b[49m\u001b[38;5;241;43m.\u001b[39;49m\u001b[43mshape\u001b[49m\u001b[43m[\u001b[49m\u001b[38;5;241;43m1\u001b[39;49m\u001b[43m]\u001b[49m\u001b[43m,\u001b[49m\u001b[43m \u001b[49m\u001b[38;5;241;43m4\u001b[39;49m\u001b[43m \u001b[49m\u001b[38;5;241;43m*\u001b[39;49m\u001b[43m \u001b[49m\u001b[38;5;241;43m128\u001b[39;49m\u001b[43m)\u001b[49m\u001b[43m)\u001b[49m\n\u001b[1;32m     66\u001b[0m \u001b[38;5;66;03m# blstm\u001b[39;00m\n\u001b[1;32m     67\u001b[0m blstm_output, (h_n, c_n) \u001b[38;5;241m=\u001b[39m \u001b[38;5;28mself\u001b[39m\u001b[38;5;241m.\u001b[39mblstm1(conv4_output)\n",
      "\u001b[0;31mRuntimeError\u001b[0m: shape '[4, 257, 512]' is invalid for input of size 921088"
     ]
    }
   ],
   "source": [
    "for i, batch in enumerate(tqdm(train_loader)):\n",
    "    model.train()\n",
    "    model.zero_grad()\n",
    "    model_input, [mos_y, frame_mos_y] = batch\n",
    "    model_input = torch.autograd.Variable(model_input.to(device, dtype=torch.float))\n",
    "    #mos_y = mos_y.cuda()\n",
    "    #frame_mos_y = frame_mos_y.cuda()\n",
    "\n",
    "    avg_score, frame_score = model(model_input)\n",
    "    fn_mse1 = nn.MSELoss()\n",
    "    fn_mse2 = nn.MSELoss()\n",
    "    #loss = fn_mse1(batch[1][0].cuda(), avg_score) + fn_mse2(batch[1][1].cuda(), frame_score)\n",
    "    loss = fn_mse1(batch[1][0].to(device), avg_score.to(device) + fn_mse2(batch[1][1].to(device), frame_score.to(device)))\n",
    "    reduced_loss = loss.item()\n"
   ]
  },
  {
   "cell_type": "code",
   "execution_count": null,
   "id": "16f0aaae",
   "metadata": {},
   "outputs": [],
   "source": []
  },
  {
   "cell_type": "code",
   "execution_count": null,
   "id": "df2aac77",
   "metadata": {},
   "outputs": [],
   "source": []
  }
 ],
 "metadata": {
  "kernelspec": {
   "display_name": "Python 3 (ipykernel)",
   "language": "python",
   "name": "python3"
  },
  "language_info": {
   "codemirror_mode": {
    "name": "ipython",
    "version": 3
   },
   "file_extension": ".py",
   "mimetype": "text/x-python",
   "name": "python",
   "nbconvert_exporter": "python",
   "pygments_lexer": "ipython3",
   "version": "3.8.12"
  }
 },
 "nbformat": 4,
 "nbformat_minor": 5
}
