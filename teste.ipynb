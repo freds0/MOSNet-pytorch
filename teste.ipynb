{
 "cells": [
  {
   "cell_type": "code",
   "execution_count": 1,
   "id": "4676838b",
   "metadata": {},
   "outputs": [
    {
     "name": "stderr",
     "output_type": "stream",
     "text": [
      "/home/fred/.conda/envs/mosnet-pytorch/lib/python3.8/site-packages/tqdm/auto.py:22: TqdmWarning: IProgress not found. Please update jupyter and ipywidgets. See https://ipywidgets.readthedocs.io/en/stable/user_install.html\n",
      "  from .autonotebook import tqdm as notebook_tqdm\n"
     ]
    }
   ],
   "source": [
    "from getdata import getdataset\n",
    "from torch.utils.data import DataLoader\n",
    "from torch import nn\n",
    "import torch\n",
    "import json\n",
    "from tqdm import tqdm"
   ]
  },
  {
   "cell_type": "code",
   "execution_count": 25,
   "id": "d3750048",
   "metadata": {},
   "outputs": [],
   "source": [
    "from pandas.core import frame\n",
    "from torch import nn\n",
    "import torch\n",
    "\n",
    "\n",
    "class TimeDistributed(nn.Module):\n",
    "    def __init__(self, module, batch_first):\n",
    "        super(TimeDistributed, self).__init__()\n",
    "        self.module = module\n",
    "        self.batch_first = batch_first\n",
    "\n",
    "    def forward(self, input_seq):\n",
    "        assert len(input_seq.size()) > 2\n",
    "        reshaped_input = input_seq.contiguous().view(-1, input_seq.size(-1))\n",
    "        output = self.module(reshaped_input)\n",
    "        if self.batch_first:\n",
    "            output = output.contiguous().view(input_seq.size(0), -1, output.size(-1))\n",
    "        else:\n",
    "            output = output.contiguous().view(-1, input_seq.size(1), output.size(-1))\n",
    "        return output\n",
    "\n",
    "\n",
    "class CNN_BLSTM(nn.Module):\n",
    "    def __init__(self):\n",
    "        super(CNN_BLSTM, self).__init__()\n",
    "        # CNN\n",
    "        self.conv1 = nn.Sequential(\n",
    "            nn.Conv2d(in_channels=1, out_channels=16, kernel_size=(3, 3), stride=(1, 1), padding=1), nn.ReLU(),\n",
    "            nn.Conv2d(16, 16, (3, 3), (1, 1), 1), nn.ReLU(),\n",
    "            nn.Conv2d(16, 16, (3, 3), (1, 3), 1), nn.ReLU())\n",
    "        self.conv2 = nn.Sequential(\n",
    "            nn.Conv2d(in_channels=16, out_channels=32, kernel_size=(3, 3), stride=(1, 1), padding=1), nn.ReLU(),\n",
    "            nn.Conv2d(32, 32, (3, 3), (1, 1), 1), nn.ReLU(),\n",
    "            nn.Conv2d(32, 32, (3, 3), (1, 3), 1), nn.ReLU())\n",
    "        self.conv3 = nn.Sequential(\n",
    "            nn.Conv2d(in_channels=32, out_channels=64, kernel_size=(3, 3), stride=(1, 1), padding=1), nn.ReLU(),\n",
    "            nn.Conv2d(64, 64, (3, 3), (1, 1), 1), nn.ReLU(),\n",
    "            nn.Conv2d(64, 64, (3, 3), (1, 3), 1), nn.ReLU())\n",
    "        self.conv4 = nn.Sequential(\n",
    "            nn.Conv2d(in_channels=64, out_channels=128, kernel_size=(3, 3), stride=(1, 1), padding=1), nn.ReLU(),\n",
    "            nn.Conv2d(128, 128, (3, 3), (1, 1), 1), nn.ReLU(),\n",
    "            nn.Conv2d(128, 128, (3, 3), (1, 3), 1), nn.ReLU())\n",
    "        # re_shape = layers.Reshape((-1, 4*128), input_shape=(-1, 4, 128))(conv4)\n",
    "        self.blstm1 = nn.LSTM(512, 128, bidirectional=True, batch_first=True)\n",
    "        self.droupout = nn.Dropout(0.3)\n",
    "        # FC\n",
    "        self.flatten = TimeDistributed(nn.Flatten(), batch_first=True)\n",
    "        self.dense1 = nn.Sequential(\n",
    "            TimeDistributed(nn.Sequential(nn.Linear(in_features=256, out_features=128), nn.ReLU()), batch_first=True),\n",
    "            nn.Dropout(0.3))\n",
    "\n",
    "        # frame score\n",
    "        self.frame_layer = TimeDistributed(nn.Linear(128, 1), batch_first=True)\n",
    "        # avg score\n",
    "        self.average_layer = nn.AdaptiveAvgPool1d(1)\n",
    "\n",
    "    def forward(self, forward_input):\n",
    "        print(forward_input.shape)\n",
    "        conv1_output = self.conv1(forward_input)\n",
    "        print(conv1_output.shape)\n",
    "        conv2_output = self.conv2(conv1_output)\n",
    "        print(conv1_output.shape)\n",
    "        conv3_output = self.conv3(conv2_output)\n",
    "        print(conv2_output.shape)\n",
    "        conv4_output = self.conv4(conv3_output)\n",
    "        print(conv3_output.shape)\n",
    "        # reshape\n",
    "        conv4_output = conv4_output.permute(0, 2, 1, 3)\n",
    "        print(conv4_output.shape)\n",
    "        conv4_output = torch.reshape(conv4_output, (conv4_output.shape[0], conv4_output.shape[1], 4 * 128))\n",
    "        print(conv4_output.shape)\n",
    "\n",
    "        # blstm\n",
    "        blstm_output, (h_n, c_n) = self.blstm1(conv4_output)\n",
    "        print(blstm_output.shape)\n",
    "        blstm_output = self.droupout(blstm_output)\n",
    "        print(blstm_output.shape)\n",
    "\n",
    "        flatten_output = self.flatten(blstm_output)\n",
    "        print(flatten_output.shape)\n",
    "        fc_output = self.dense1(flatten_output)\n",
    "        print(fc_output.shape)\n",
    "        frame_score = self.frame_layer(fc_output)\n",
    "        print(frame_score.shape)\n",
    "\n",
    "        avg_score = self.average_layer(frame_score.permute(0, 2, 1))\n",
    "        print(avg_score.shape)\n",
    "        r = torch.reshape(avg_score, (avg_score.shape[0], -1))\n",
    "        print(r.shape)\n",
    "        return r, frame_score\n",
    "\n"
   ]
  },
  {
   "cell_type": "code",
   "execution_count": 73,
   "id": "b830a895",
   "metadata": {},
   "outputs": [],
   "source": [
    "from pandas.core import frame\n",
    "from torch import nn\n",
    "import torch\n",
    "\n",
    "\n",
    "class TimeDistributed(nn.Module):\n",
    "    def __init__(self, module, batch_first):\n",
    "        super(TimeDistributed, self).__init__()\n",
    "        self.module = module\n",
    "        self.batch_first = batch_first\n",
    "\n",
    "    def forward(self, input_seq):\n",
    "        assert len(input_seq.size()) > 2\n",
    "        reshaped_input = input_seq.contiguous().view(-1, input_seq.size(-1))\n",
    "        output = self.module(reshaped_input)\n",
    "        if self.batch_first:\n",
    "            output = output.contiguous().view(input_seq.size(0), -1, output.size(-1))\n",
    "        else:\n",
    "            output = output.contiguous().view(-1, input_seq.size(1), output.size(-1))\n",
    "        return output\n",
    "\n",
    "\n",
    "class CNN(nn.Module):\n",
    "    def __init__(self):\n",
    "        super(CNN, self).__init__()\n",
    "        # CNN\n",
    "        self.conv1 = nn.Sequential(\n",
    "            nn.Conv2d(in_channels=1, out_channels=16, kernel_size=(3, 3), stride=(1, 1), padding=1), nn.ReLU(),\n",
    "            nn.Conv2d(16, 16, (3, 3), (1, 1), 1), nn.ReLU(),\n",
    "            nn.Conv2d(16, 16, (3, 3), (1, 3), 1), nn.ReLU())\n",
    "        self.conv2 = nn.Sequential(\n",
    "            nn.Conv2d(in_channels=16, out_channels=32, kernel_size=(3, 3), stride=(1, 1), padding=1), nn.ReLU(),\n",
    "            nn.Conv2d(32, 32, (3, 3), (1, 1), 1), nn.ReLU(),\n",
    "            nn.Conv2d(32, 32, (3, 3), (1, 3), 1), nn.ReLU())\n",
    "        self.conv3 = nn.Sequential(\n",
    "            nn.Conv2d(in_channels=32, out_channels=64, kernel_size=(3, 3), stride=(1, 1), padding=1), nn.ReLU(),\n",
    "            nn.Conv2d(64, 64, (3, 3), (1, 1), 1), nn.ReLU(),\n",
    "            nn.Conv2d(64, 64, (3, 3), (1, 3), 1), nn.ReLU())\n",
    "        self.conv4 = nn.Sequential(\n",
    "            nn.Conv2d(in_channels=64, out_channels=128, kernel_size=(3, 3), stride=(1, 1), padding=1), nn.ReLU(),\n",
    "            nn.Conv2d(128, 128, (3, 3), (1, 1), 1), nn.ReLU(),\n",
    "            nn.Conv2d(128, 128, (3, 3), (1, 3), 1), nn.ReLU())\n",
    "        # re_shape = layers.Reshape((-1, 4*128), input_shape=(-1, 4, 128))(conv4)\n",
    "        self.blstm1 = nn.LSTM(512, 128, bidirectional=True, batch_first=True)\n",
    "        self.droupout = nn.Dropout(0.3)\n",
    "        # FC\n",
    "        self.flatten = TimeDistributed(nn.Flatten(), batch_first=True)\n",
    "        self.dense1 = nn.Sequential(\n",
    "            TimeDistributed(nn.Sequential(nn.Linear(in_features=512, out_features=128), nn.ReLU()), batch_first=True),\n",
    "            nn.Dropout(0.3))\n",
    "\n",
    "        # frame score\n",
    "        self.frame_layer = TimeDistributed(nn.Linear(128, 1), batch_first=True)\n",
    "        # avg score\n",
    "        self.average_layer = nn.AdaptiveAvgPool1d(1)\n",
    "\n",
    "    def forward(self, forward_input):\n",
    "        #print('teste1')\n",
    "        #print(forward_input.shape)\n",
    "        conv1_output = self.conv1(forward_input)\n",
    "        #print('teste2')\n",
    "        #print(conv1_output.shape)\n",
    "        conv2_output = self.conv2(conv1_output)\n",
    "        #print('teste3')\n",
    "        #print(conv1_output.shape)\n",
    "        conv3_output = self.conv3(conv2_output)\n",
    "        #print('teste4')\n",
    "        #print(conv2_output.shape)\n",
    "        conv4_output = self.conv4(conv3_output)\n",
    "        #print('teste5')\n",
    "        #print(conv3_output.shape)\n",
    "        # reshape\n",
    "        conv4_output = conv4_output.permute(0, 2, 1, 3)\n",
    "        #print('teste6')\n",
    "        #print(conv4_output.shape)\n",
    "        conv4_output = torch.reshape(conv4_output, (conv4_output.shape[0], conv4_output.shape[1], 4 * 128))\n",
    "        #print('teste7')\n",
    "        #print(conv4_output.shape)\n",
    "\n",
    "        flatten_output = self.flatten(conv4_output)\n",
    "        #print('teste8')\n",
    "        #print(flatten_output.shape)\n",
    "        fc_output = self.dense1(flatten_output)\n",
    "        #print('teste9')\n",
    "        #print(fc_output.shape)\n",
    "        frame_score = self.frame_layer(fc_output)\n",
    "        #print('teste10')\n",
    "        #print(frame_score.shape)\n",
    "\n",
    "        avg_score = self.average_layer(frame_score.permute(0, 2, 1))\n",
    "        #print('teste11')\n",
    "        #print(avg_score.shape)\n",
    "        r = torch.reshape(avg_score, (avg_score.shape[0], -1))\n",
    "        #print('teste12')\n",
    "        #print(r.shape)\n",
    "        return r, frame_score\n",
    "\n"
   ]
  },
  {
   "cell_type": "code",
   "execution_count": 3,
   "id": "ef4e62c8",
   "metadata": {},
   "outputs": [],
   "source": [
    "with open('config.json') as f:\n",
    "    data = f.read()\n",
    "config = json.loads(data)\n",
    "loaddata_config = config[\"loaddata_config\"]\n",
    "train_config = config[\"train_config\"]"
   ]
  },
  {
   "cell_type": "code",
   "execution_count": 4,
   "id": "872e57a4",
   "metadata": {},
   "outputs": [
    {
     "data": {
      "text/plain": [
       "{'num_train': 13580,\n",
       " 'num_test': 4000,\n",
       " 'num_valid': 3000,\n",
       " 'bin_root': './data/bin/',\n",
       " 'data_dir': './data',\n",
       " 'fft_size': 512,\n",
       " 'max_timestep': 521}"
      ]
     },
     "execution_count": 4,
     "metadata": {},
     "output_type": "execute_result"
    }
   ],
   "source": [
    "loaddata_config"
   ]
  },
  {
   "cell_type": "code",
   "execution_count": 32,
   "id": "78324a08",
   "metadata": {},
   "outputs": [
    {
     "data": {
      "text/plain": [
       "{'fp16_run': True,\n",
       " 'output_directory': './output',\n",
       " 'epochs': 100,\n",
       " 'learning_rate': 0.0001,\n",
       " 'batch_size': 32,\n",
       " 'seed': 42,\n",
       " 'checkpoint_path': '',\n",
       " 'with_tensorboard': True,\n",
       " 'earlystopping': 5}"
      ]
     },
     "execution_count": 32,
     "metadata": {},
     "output_type": "execute_result"
    }
   ],
   "source": [
    "train_config"
   ]
  },
  {
   "cell_type": "code",
   "execution_count": 5,
   "id": "d36f530e",
   "metadata": {},
   "outputs": [],
   "source": [
    "trainset = getdataset(loaddata_config, train_config[\"seed\"], \"train\")"
   ]
  },
  {
   "cell_type": "code",
   "execution_count": 6,
   "id": "a9ff30a0",
   "metadata": {},
   "outputs": [],
   "source": [
    "train_loader = DataLoader(trainset, num_workers=0,\n",
    "                          batch_size=4,\n",
    "                          pin_memory=False,\n",
    "                          drop_last=True)"
   ]
  },
  {
   "cell_type": "code",
   "execution_count": 26,
   "id": "ebdf8144",
   "metadata": {},
   "outputs": [],
   "source": [
    "model = CNN_BLSTM()"
   ]
  },
  {
   "cell_type": "code",
   "execution_count": 74,
   "id": "5db94cb9",
   "metadata": {},
   "outputs": [],
   "source": [
    "model = CNN()"
   ]
  },
  {
   "cell_type": "code",
   "execution_count": 8,
   "id": "7e04aa04",
   "metadata": {},
   "outputs": [
    {
     "data": {
      "text/plain": [
       "True"
      ]
     },
     "execution_count": 8,
     "metadata": {},
     "output_type": "execute_result"
    }
   ],
   "source": [
    "torch.cuda.is_available()"
   ]
  },
  {
   "cell_type": "code",
   "execution_count": 9,
   "id": "b48f24ee",
   "metadata": {},
   "outputs": [
    {
     "data": {
      "text/plain": [
       "0"
      ]
     },
     "execution_count": 9,
     "metadata": {},
     "output_type": "execute_result"
    }
   ],
   "source": [
    "torch.cuda.current_device()"
   ]
  },
  {
   "cell_type": "code",
   "execution_count": 10,
   "id": "175a316c",
   "metadata": {},
   "outputs": [
    {
     "data": {
      "text/plain": [
       "'NVIDIA GeForce RTX 3060 Laptop GPU'"
      ]
     },
     "execution_count": 10,
     "metadata": {},
     "output_type": "execute_result"
    }
   ],
   "source": [
    "torch.cuda.get_device_name(0)"
   ]
  },
  {
   "cell_type": "code",
   "execution_count": 14,
   "id": "5c17953a",
   "metadata": {},
   "outputs": [],
   "source": [
    "optimizer = torch.optim.Adam(model.parameters(), lr=1e-4)"
   ]
  },
  {
   "cell_type": "code",
   "execution_count": 65,
   "id": "03b8ceec",
   "metadata": {},
   "outputs": [
    {
     "data": {
      "text/plain": [
       "CNN(\n",
       "  (conv1): Sequential(\n",
       "    (0): Conv2d(1, 16, kernel_size=(3, 3), stride=(1, 1), padding=(1, 1))\n",
       "    (1): ReLU()\n",
       "    (2): Conv2d(16, 16, kernel_size=(3, 3), stride=(1, 1), padding=(1, 1))\n",
       "    (3): ReLU()\n",
       "    (4): Conv2d(16, 16, kernel_size=(3, 3), stride=(1, 3), padding=(1, 1))\n",
       "    (5): ReLU()\n",
       "  )\n",
       "  (conv2): Sequential(\n",
       "    (0): Conv2d(16, 32, kernel_size=(3, 3), stride=(1, 1), padding=(1, 1))\n",
       "    (1): ReLU()\n",
       "    (2): Conv2d(32, 32, kernel_size=(3, 3), stride=(1, 1), padding=(1, 1))\n",
       "    (3): ReLU()\n",
       "    (4): Conv2d(32, 32, kernel_size=(3, 3), stride=(1, 3), padding=(1, 1))\n",
       "    (5): ReLU()\n",
       "  )\n",
       "  (conv3): Sequential(\n",
       "    (0): Conv2d(32, 64, kernel_size=(3, 3), stride=(1, 1), padding=(1, 1))\n",
       "    (1): ReLU()\n",
       "    (2): Conv2d(64, 64, kernel_size=(3, 3), stride=(1, 1), padding=(1, 1))\n",
       "    (3): ReLU()\n",
       "    (4): Conv2d(64, 64, kernel_size=(3, 3), stride=(1, 3), padding=(1, 1))\n",
       "    (5): ReLU()\n",
       "  )\n",
       "  (conv4): Sequential(\n",
       "    (0): Conv2d(64, 128, kernel_size=(3, 3), stride=(1, 1), padding=(1, 1))\n",
       "    (1): ReLU()\n",
       "    (2): Conv2d(128, 128, kernel_size=(3, 3), stride=(1, 1), padding=(1, 1))\n",
       "    (3): ReLU()\n",
       "    (4): Conv2d(128, 128, kernel_size=(3, 3), stride=(1, 3), padding=(1, 1))\n",
       "    (5): ReLU()\n",
       "  )\n",
       "  (blstm1): LSTM(512, 128, batch_first=True, bidirectional=True)\n",
       "  (droupout): Dropout(p=0.3, inplace=False)\n",
       "  (flatten): TimeDistributed(\n",
       "    (module): Flatten(start_dim=1, end_dim=-1)\n",
       "  )\n",
       "  (dense1): Sequential(\n",
       "    (0): TimeDistributed(\n",
       "      (module): Sequential(\n",
       "        (0): Linear(in_features=512, out_features=128, bias=True)\n",
       "        (1): ReLU()\n",
       "      )\n",
       "    )\n",
       "    (1): Dropout(p=0.3, inplace=False)\n",
       "  )\n",
       "  (frame_layer): TimeDistributed(\n",
       "    (module): Linear(in_features=128, out_features=1, bias=True)\n",
       "  )\n",
       "  (average_layer): AdaptiveAvgPool1d(output_size=1)\n",
       ")"
      ]
     },
     "execution_count": 65,
     "metadata": {},
     "output_type": "execute_result"
    }
   ],
   "source": [
    "model.train()"
   ]
  },
  {
   "cell_type": "code",
   "execution_count": 75,
   "id": "b6af0dde",
   "metadata": {},
   "outputs": [],
   "source": [
    "use_cuda = torch.cuda.is_available()\n",
    "\n",
    "device = torch.device(\"cuda\" if use_cuda else \"cpu\")"
   ]
  },
  {
   "cell_type": "code",
   "execution_count": 76,
   "id": "ff48cfa2",
   "metadata": {},
   "outputs": [],
   "source": [
    "model = model.to(device)"
   ]
  },
  {
   "cell_type": "code",
   "execution_count": 58,
   "id": "0e703e49",
   "metadata": {},
   "outputs": [
    {
     "name": "stderr",
     "output_type": "stream",
     "text": [
      "  0%|                                                                                                                                                                | 0/3395 [00:00<?, ?it/s]"
     ]
    },
    {
     "name": "stdout",
     "output_type": "stream",
     "text": [
      "torch.Size([4, 1, 492, 257])\n"
     ]
    },
    {
     "name": "stderr",
     "output_type": "stream",
     "text": [
      "\n"
     ]
    }
   ],
   "source": [
    "for i, batch in enumerate(tqdm(train_loader)):\n",
    "    model_input, [mos_y, frame_mos_y] = batch\n",
    "    print(model_input.shape)\n",
    "    break"
   ]
  },
  {
   "cell_type": "code",
   "execution_count": 68,
   "id": "087626cb",
   "metadata": {},
   "outputs": [
    {
     "data": {
      "text/plain": [
       "torch.Size([4, 1, 492, 257])"
      ]
     },
     "execution_count": 68,
     "metadata": {},
     "output_type": "execute_result"
    }
   ],
   "source": [
    "dataloader_iterator = iter(train_loader)\n",
    "batch = next(dataloader_iterator)\n",
    "model_input, [mos_y, frame_mos_y] = batch\n",
    "model_input.shape"
   ]
  },
  {
   "cell_type": "code",
   "execution_count": 77,
   "id": "244f2a30",
   "metadata": {},
   "outputs": [],
   "source": [
    "model_input = torch.autograd.Variable(model_input.to(device, dtype=torch.float))\n",
    "avg_score, frame_score = model(model_input)"
   ]
  },
  {
   "cell_type": "code",
   "execution_count": 81,
   "id": "d0614d24",
   "metadata": {},
   "outputs": [
    {
     "name": "stdout",
     "output_type": "stream",
     "text": [
      "Epoch: 0\n"
     ]
    },
    {
     "name": "stderr",
     "output_type": "stream",
     "text": [
      "100%|█████████████████████████████████████████████████████████████████████████████████████████████████████████████████████████████████████████████████████| 3395/3395 [00:33<00:00, 99.88it/s]\n"
     ]
    },
    {
     "name": "stdout",
     "output_type": "stream",
     "text": [
      "epoch:0,loss:\t23.505809784\n",
      "Epoch: 1\n"
     ]
    },
    {
     "name": "stderr",
     "output_type": "stream",
     "text": [
      "100%|█████████████████████████████████████████████████████████████████████████████████████████████████████████████████████████████████████████████████████| 3395/3395 [00:34<00:00, 97.07it/s]\n"
     ]
    },
    {
     "name": "stdout",
     "output_type": "stream",
     "text": [
      "epoch:1,loss:\t23.506727219\n",
      "Epoch: 2\n"
     ]
    },
    {
     "name": "stderr",
     "output_type": "stream",
     "text": [
      "100%|█████████████████████████████████████████████████████████████████████████████████████████████████████████████████████████████████████████████████████| 3395/3395 [00:35<00:00, 96.75it/s]"
     ]
    },
    {
     "name": "stdout",
     "output_type": "stream",
     "text": [
      "epoch:2,loss:\t23.504512787\n"
     ]
    },
    {
     "name": "stderr",
     "output_type": "stream",
     "text": [
      "\n"
     ]
    }
   ],
   "source": [
    "n_epochs = 3\n",
    "for epoch in range(n_epochs):\n",
    "    print(\"Epoch: {}\".format(epoch))\n",
    "    for i, batch in enumerate(tqdm(train_loader)):\n",
    "        model.train()\n",
    "        model.zero_grad()\n",
    "        model_input, [mos_y, frame_mos_y] = batch\n",
    "        model_input = torch.autograd.Variable(model_input.to(device, dtype=torch.float))\n",
    "        mos_y = mos_y.to(device, dtype=torch.float)\n",
    "        frame_mos_y = frame_mos_y.to(device, dtype=torch.float)\n",
    "\n",
    "        avg_score, frame_score = model(model_input)\n",
    "        fn_mse1 = nn.MSELoss()\n",
    "        fn_mse2 = nn.MSELoss()\n",
    "        #loss = fn_mse1(batch[1][0].cuda(), avg_score) + fn_mse2(batch[1][1].cuda(), frame_score)\n",
    "        loss = fn_mse1(batch[1][0].to(device, dtype=torch.float), avg_score) + fn_mse2(batch[1][1].to(device, dtype=torch.float), frame_score)\n",
    "        reduced_loss = loss.item()\n",
    "    print(\"epoch:{},loss:\\t{:.9f}\".format(epoch, reduced_loss))"
   ]
  },
  {
   "cell_type": "code",
   "execution_count": null,
   "id": "16f0aaae",
   "metadata": {},
   "outputs": [],
   "source": []
  }
 ],
 "metadata": {
  "kernelspec": {
   "display_name": "Python 3 (ipykernel)",
   "language": "python",
   "name": "python3"
  },
  "language_info": {
   "codemirror_mode": {
    "name": "ipython",
    "version": 3
   },
   "file_extension": ".py",
   "mimetype": "text/x-python",
   "name": "python",
   "nbconvert_exporter": "python",
   "pygments_lexer": "ipython3",
   "version": "3.8.12"
  }
 },
 "nbformat": 4,
 "nbformat_minor": 5
}
